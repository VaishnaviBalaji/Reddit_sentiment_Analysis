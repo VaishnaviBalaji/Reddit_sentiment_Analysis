{
  "nbformat": 4,
  "nbformat_minor": 0,
  "metadata": {
    "colab": {
      "name": "Reddit_sentiment_Analysis.ipynb",
      "provenance": []
    },
    "kernelspec": {
      "name": "python3",
      "display_name": "Python 3"
    },
    "language_info": {
      "name": "python"
    }
  },
  "cells": [
    {
      "cell_type": "markdown",
      "metadata": {
        "id": "_j_nORqdZ0QP"
      },
      "source": [
        "\n",
        "\n",
        "https://colab.research.google.com/drive/1YyEYfccmFOBjp9kmpm3KF_hQeRj9ufow?usp=sharing\n",
        "\n"
      ]
    },
    {
      "cell_type": "code",
      "metadata": {
        "id": "svaV2xW7UF4H"
      },
      "source": [
        "import pandas as pd\n",
        "import numpy as np\n",
        "\n",
        "train_data = pd.read_json(\"https://raw.githubusercontent.com/rpsoft/tad_course/main/reddit_sentiment_train.json\")\n",
        "\n",
        "validation_data = pd.read_json(\"https://raw.githubusercontent.com/rpsoft/tad_course/main/reddit_sentiment_validation.json\")\n",
        "\n",
        "test_data = pd.read_json(\"https://raw.githubusercontent.com/rpsoft/tad_course/main/reddit_sentiment_test.json\")"
      ],
      "execution_count": null,
      "outputs": []
    },
    {
      "cell_type": "code",
      "metadata": {
        "id": "dUw2ay7kUK-E"
      },
      "source": [
        "validation_data.rename(columns={'sentiment.polarity': 'sentiment_polarity', 'sentiment.subjectivity' : 'sentiment_subjectivity'},inplace=True)\n",
        "test_data.rename(columns={'sentiment.polarity': 'sentiment_polarity', 'sentiment.subjectivity' : 'sentiment_subjectivity'},inplace=True)\n",
        "train_data.rename(columns={'sentiment.polarity': 'sentiment_polarity', 'sentiment.subjectivity' : 'sentiment_subjectivity'},inplace=True)\n"
      ],
      "execution_count": null,
      "outputs": []
    },
    {
      "cell_type": "code",
      "metadata": {
        "id": "RJx81uArUPjZ"
      },
      "source": [
        "def create_label(x):\n",
        "    if x == 'very positive':\n",
        "      return 5 \n",
        "    elif x == 'positive':\n",
        "      return 4 \n",
        "    elif x== 'neutral':\n",
        "      return 3\n",
        "    elif x== 'negative':\n",
        "      return 2\n",
        "    else:\n",
        "      return 1"
      ],
      "execution_count": null,
      "outputs": []
    },
    {
      "cell_type": "code",
      "metadata": {
        "id": "YwBX8cw7UT-u"
      },
      "source": [
        "validation_data['sentiment']=validation_data.sentiment_polarity.apply(create_label)\n",
        "test_data['sentiment']=test_data.sentiment_polarity.apply(create_label)\n",
        "train_data['sentiment']=train_data.sentiment_polarity.apply(create_label)"
      ],
      "execution_count": null,
      "outputs": []
    },
    {
      "cell_type": "code",
      "metadata": {
        "colab": {
          "base_uri": "https://localhost:8080/"
        },
        "id": "ijAMzOxUCfDZ",
        "outputId": "941c820c-0c87-4087-b049-58959981dd1f"
      },
      "source": [
        "train_data.columns"
      ],
      "execution_count": null,
      "outputs": [
        {
          "output_type": "execute_result",
          "data": {
            "text/plain": [
              "Index(['subreddit', 'title', 'id', 'url', 'author', 'body', 'majority_type',\n",
              "       'is_first_post', 'post_depth', 'in_reply_to', 'sentiment_polarity',\n",
              "       'sentiment_subjectivity', 'sentiment'],\n",
              "      dtype='object')"
            ]
          },
          "metadata": {
            "tags": []
          },
          "execution_count": 52
        }
      ]
    },
    {
      "cell_type": "code",
      "metadata": {
        "colab": {
          "base_uri": "https://localhost:8080/",
          "height": 323
        },
        "id": "bkqCNWYIUXev",
        "outputId": "2f8ed878-b0a7-456f-9302-c45562a5c5dc"
      },
      "source": [
        "from matplotlib import pyplot as plt\n",
        "import seaborn as sns\n",
        "sns.countplot(x='sentiment_polarity', data=train_data)"
      ],
      "execution_count": null,
      "outputs": [
        {
          "output_type": "execute_result",
          "data": {
            "text/plain": [
              "<matplotlib.axes._subplots.AxesSubplot at 0x7f652797ca50>"
            ]
          },
          "metadata": {
            "tags": []
          },
          "execution_count": 53
        },
        {
          "output_type": "display_data",
          "data": {
            "image/png": "[encoded data removed]",
            "text/plain": [
              "<Figure size 432x288 with 1 Axes>"
            ]
          },
          "metadata": {
            "tags": []
          }
        }
      ]
    },
    {
      "cell_type": "code",
      "metadata": {
        "colab": {
          "base_uri": "https://localhost:8080/"
        },
        "id": "WMvwAeD6UgqL",
        "outputId": "c9f6ce33-d66d-4aea-ca0c-d2c276f391b5"
      },
      "source": [
        "import spacy\n",
        "\n",
        "# Load the medium english model. \n",
        "# We will use this model to get embedding features for tokens later.\n",
        "#!python -m spacy download en_core_web_md\n",
        "\n",
        "nlp = spacy.load('en_core_web_sm', disable=['ner'])\n",
        "nlp.remove_pipe('tagger')\n",
        "nlp.remove_pipe('parser')\n",
        "\n",
        "# Download a stopword list\n",
        "import nltk\n",
        "nltk.download('stopwords')"
      ],
      "execution_count": null,
      "outputs": [
        {
          "output_type": "stream",
          "text": [
            "[nltk_data] Downloading package stopwords to /root/nltk_data...\n",
            "[nltk_data]   Package stopwords is already up-to-date!\n"
          ],
          "name": "stdout"
        },
        {
          "output_type": "execute_result",
          "data": {
            "text/plain": [
              "True"
            ]
          },
          "metadata": {
            "tags": []
          },
          "execution_count": 54
        }
      ]
    },
    {
      "cell_type": "code",
      "metadata": {
        "id": "Z0t5EMrrUiBi"
      },
      "source": [
        "from sklearn.feature_extraction.text import CountVectorizer\n",
        "\n",
        "# Pass in the tokenizer as the tokenizer to the vectorizer.\n",
        "# Create a one-hot encoding vectorizer.\n",
        "one_hot_vectorizer = CountVectorizer()\n",
        "train_features = one_hot_vectorizer.fit_transform(train_data['body'])\n",
        "\n",
        "# This creates input features for our classification on all subsets of our collection.\n",
        "validation_features = one_hot_vectorizer.transform(validation_data['body'])\n",
        "test_features = one_hot_vectorizer.transform(test_data['body'])"
      ],
      "execution_count": null,
      "outputs": []
    },
    {
      "cell_type": "code",
      "metadata": {
        "id": "YlR_JGy3U3Hv"
      },
      "source": [
        "train_labels = train_data['sentiment']\n",
        "validation_labels = validation_data['sentiment']\n",
        "test_labels = test_data['sentiment']"
      ],
      "execution_count": null,
      "outputs": []
    },
    {
      "cell_type": "code",
      "metadata": {
        "colab": {
          "base_uri": "https://localhost:8080/",
          "height": 237
        },
        "id": "ReCRTbPtG0bA",
        "outputId": "4b1f101f-f628-4f7f-d058-5dd958b52140"
      },
      "source": [
        "# Visualisation\n",
        "import matplotlib.pyplot as plt\n",
        "import seaborn as sns\n",
        "%matplotlib inline\n",
        "sns.set(style=\"whitegrid\", context='talk')\n",
        "plt.figure(figsize = (14,5))\n",
        "columns = ['subreddit','title','id','url','author','body','majority_type','is_first_post','post_depth','in_reply_to','sentiment_polarity','sentiment_subjectivity','sentiment']\n",
        "sns.heatmap(train_data[columns].corr(), annot=True, cmap='seismic_r');"
      ],
      "execution_count": null,
      "outputs": [
        {
          "output_type": "display_data",
          "data": {
            "image/png": "[encoded data removed]",
            "text/plain": [
              "<Figure size 1008x360 with 2 Axes>"
            ]
          },
          "metadata": {
            "tags": []
          }
        }
      ]
    },
    {
      "cell_type": "code",
      "metadata": {
        "id": "LEybli2xVbnz"
      },
      "source": [
        "from sklearn.metrics import classification_report\n",
        "from sklearn.metrics import confusion_matrix\n",
        "from sklearn.metrics import precision_score\n",
        "from sklearn.metrics import recall_score\n",
        "from sklearn.metrics import accuracy_score\n",
        "from sklearn.metrics import fbeta_score"
      ],
      "execution_count": null,
      "outputs": []
    },
    {
      "cell_type": "code",
      "metadata": {
        "id": "X7MMhMiXWKgi"
      },
      "source": [
        "def evaluation_summary(description, predictions, true_labels):\n",
        "  print(\"Evaluation for: \" + description)\n",
        "  precision = precision_score(predictions, true_labels,average='macro')\n",
        "  recall = recall_score(predictions, true_labels,average='macro')\n",
        "  accuracy = accuracy_score(predictions, true_labels)\n",
        "  f1 = fbeta_score(predictions, true_labels,1, average='macro') #1 means f_1 measure\n",
        "  print(\"Classifier '%s' has Acc=%0.3f P=%0.3f R=%0.3f macro-F1=%0.3f\" % (description,accuracy,precision,recall,f1))\n",
        "  \n",
        "  "
      ],
      "execution_count": null,
      "outputs": []
    },
    {
      "cell_type": "markdown",
      "metadata": {
        "id": "zMrrZEgJehJW"
      },
      "source": [
        "**Dummy Classifier with stratergy = \"most_frequent**"
      ]
    },
    {
      "cell_type": "code",
      "metadata": {
        "colab": {
          "base_uri": "https://localhost:8080/"
        },
        "id": "YB5Pfo6Yeslv",
        "outputId": "93d1c82f-5bb5-4242-e57d-706e6b17e8eb"
      },
      "source": [
        "from sklearn.dummy import DummyClassifier\n",
        "\n",
        "dummy_prior = DummyClassifier(strategy='most_frequent')\n",
        "dummy_prior.fit(train_features, train_labels)\n",
        "#evaluation_summary(\"Dummy_most_frequent_train\", dummy_prior.predict(train_features), train_labels)\n",
        "#evaluation_summary(\"Dummy_most_frequent_validation\", dummy_prior.predict(validation_features), validation_labels)\n",
        "evaluation_summary(\"Dummy_most_frequent_test\", dummy_prior.predict(test_features), test_labels)"
      ],
      "execution_count": null,
      "outputs": [
        {
          "output_type": "stream",
          "text": [
            "Evaluation for: Dummy_most_frequent_test\n",
            "Classifier 'Dummy_most_frequent_test' has Acc=0.626 P=0.200 R=0.125 macro-F1=0.154\n"
          ],
          "name": "stdout"
        },
        {
          "output_type": "stream",
          "text": [
            "/usr/local/lib/python3.7/dist-packages/sklearn/metrics/_classification.py:1272: UndefinedMetricWarning: Recall is ill-defined and being set to 0.0 in labels with no true samples. Use `zero_division` parameter to control this behavior.\n",
            "  _warn_prf(average, modifier, msg_start, len(result))\n"
          ],
          "name": "stderr"
        }
      ]
    },
    {
      "cell_type": "markdown",
      "metadata": {
        "id": "zEVvjhMWeR9P"
      },
      "source": [
        "**Dummy Classifier with stratergy = \"stratified\"**"
      ]
    },
    {
      "cell_type": "code",
      "metadata": {
        "colab": {
          "base_uri": "https://localhost:8080/"
        },
        "id": "cZussoLUU9g7",
        "outputId": "b78b5bf8-ebfb-4614-ad3c-4ca16ccfa4ae"
      },
      "source": [
        "from sklearn.dummy import DummyClassifier\n",
        "\n",
        "dummy_prior = DummyClassifier(strategy='stratified')\n",
        "dummy_prior.fit(train_features, train_labels)\n",
        "#evaluation_summary(\"Dummy_stratified_train\", dummy_prior.predict(train_features), train_labels)\n",
        "#evaluation_summary(\"Dummy_stratified_validation\", dummy_prior.predict(validation_features), validation_labels)\n",
        "evaluation_summary(\"Dummy_stratified_test\", dummy_prior.predict(test_features), test_labels)"
      ],
      "execution_count": null,
      "outputs": [
        {
          "output_type": "stream",
          "text": [
            "Evaluation for: Dummy_stratified_test\n",
            "Classifier 'Dummy_stratified_test' has Acc=0.488 P=0.206 R=0.207 macro-F1=0.206\n"
          ],
          "name": "stdout"
        }
      ]
    },
    {
      "cell_type": "markdown",
      "metadata": {
        "id": "7Rb8DeK3iVzS"
      },
      "source": [
        "**LogisticRegression with one-hot vectorization**"
      ]
    },
    {
      "cell_type": "code",
      "metadata": {
        "colab": {
          "base_uri": "https://localhost:8080/"
        },
        "id": "G06hqmmxeQr0",
        "outputId": "177fbcc8-30a6-4b20-9825-7dfe61900f1d"
      },
      "source": [
        "from sklearn.linear_model import LogisticRegression\n",
        "lr = LogisticRegression()\n",
        "lr_model = lr.fit(train_features, train_labels)\n",
        "#evaluation_summary(\"LR_onehot_train\", lr_model.predict(train_features), train_labels)\n",
        "#evaluation_summary(\"LR_onehot_validation\", lr_model.predict(validation_features), validation_labels)\n",
        "evaluation_summary(\"LR_onehot_test\", lr_model.predict(test_features), test_labels)"
      ],
      "execution_count": null,
      "outputs": [
        {
          "output_type": "stream",
          "text": [
            "Evaluation for: LR_onehot_test\n",
            "Classifier 'LR_onehot_test' has Acc=0.739 P=0.400 R=0.530 macro-F1=0.433\n"
          ],
          "name": "stdout"
        },
        {
          "output_type": "stream",
          "text": [
            "/usr/local/lib/python3.7/dist-packages/sklearn/linear_model/_logistic.py:940: ConvergenceWarning: lbfgs failed to converge (status=1):\n",
            "STOP: TOTAL NO. of ITERATIONS REACHED LIMIT.\n",
            "\n",
            "Increase the number of iterations (max_iter) or scale the data as shown in:\n",
            "    https://scikit-learn.org/stable/modules/preprocessing.html\n",
            "Please also refer to the documentation for alternative solver options:\n",
            "    https://scikit-learn.org/stable/modules/linear_model.html#logistic-regression\n",
            "  extra_warning_msg=_LOGISTIC_SOLVER_CONVERGENCE_MSG)\n"
          ],
          "name": "stderr"
        }
      ]
    },
    {
      "cell_type": "markdown",
      "metadata": {
        "id": "2eppr6eDil-L"
      },
      "source": [
        "**LogisticRegression with TF-IDF Vectorization(default settings)**"
      ]
    },
    {
      "cell_type": "code",
      "metadata": {
        "id": "Cj1rJIfPiGmA"
      },
      "source": [
        "## Logistic Regression with TF-IDF\n",
        "from sklearn.feature_extraction.text import TfidfVectorizer\n",
        "\n",
        "# Pass in the tokenizer as the tokenizer to the vectorizer.\n",
        "# Create a one-hot encoding vectorizer.\n",
        "one_hot_vectorizer = TfidfVectorizer()\n",
        "train_features_new = one_hot_vectorizer.fit_transform(train_data['body'])\n",
        "\n",
        "# This creates input features for our classification on all subsets of our collection.\n",
        "validation_features_new = one_hot_vectorizer.transform(validation_data['body'])\n",
        "test_features_new = one_hot_vectorizer.transform(test_data['body'])"
      ],
      "execution_count": null,
      "outputs": []
    },
    {
      "cell_type": "code",
      "metadata": {
        "colab": {
          "base_uri": "https://localhost:8080/"
        },
        "id": "NniL-Zvni8Hj",
        "outputId": "58332be6-6e39-45f5-c498-11f8b997a18b"
      },
      "source": [
        "from sklearn.linear_model import LogisticRegression\n",
        "lr = LogisticRegression()\n",
        "lr_model_new = lr.fit(train_features_new, train_labels)\n",
        "#evaluation_summary(\"LR_TFIDF_train\", lr_model_new.predict(train_features_new), train_labels)\n",
        "#evaluation_summary(\"LR_TFIDF_validation\", lr_model_new.predict(validation_features_new), validation_labels)\n",
        "evaluation_summary(\"LR_TFIDF_test\", lr_model_new.predict(test_features_new), test_labels)"
      ],
      "execution_count": null,
      "outputs": [
        {
          "output_type": "stream",
          "text": [
            "Evaluation for: LR_TFIDF_test\n",
            "Classifier 'LR_TFIDF_test' has Acc=0.739 P=0.325 R=0.578 macro-F1=0.349\n"
          ],
          "name": "stdout"
        },
        {
          "output_type": "stream",
          "text": [
            "/usr/local/lib/python3.7/dist-packages/sklearn/linear_model/_logistic.py:940: ConvergenceWarning: lbfgs failed to converge (status=1):\n",
            "STOP: TOTAL NO. of ITERATIONS REACHED LIMIT.\n",
            "\n",
            "Increase the number of iterations (max_iter) or scale the data as shown in:\n",
            "    https://scikit-learn.org/stable/modules/preprocessing.html\n",
            "Please also refer to the documentation for alternative solver options:\n",
            "    https://scikit-learn.org/stable/modules/linear_model.html#logistic-regression\n",
            "  extra_warning_msg=_LOGISTIC_SOLVER_CONVERGENCE_MSG)\n",
            "/usr/local/lib/python3.7/dist-packages/sklearn/metrics/_classification.py:1272: UndefinedMetricWarning: Recall is ill-defined and being set to 0.0 in labels with no true samples. Use `zero_division` parameter to control this behavior.\n",
            "  _warn_prf(average, modifier, msg_start, len(result))\n"
          ],
          "name": "stderr"
        }
      ]
    },
    {
      "cell_type": "markdown",
      "metadata": {
        "id": "lropWV0klNWY"
      },
      "source": [
        "**SVC classifier with one-hot vectorization (SVM with RBF kernel, default settings)**"
      ]
    },
    {
      "cell_type": "code",
      "metadata": {
        "colab": {
          "base_uri": "https://localhost:8080/"
        },
        "id": "sVE3SQWtjto4",
        "outputId": "7df13311-0c27-45a8-bfe0-b671da297c93"
      },
      "source": [
        "from sklearn.svm import SVC\n",
        "svc=SVC() #default kernal - 'rbf'\n",
        "svc_model=svc.fit(train_features,train_labels)\n",
        "#evaluation_summary(\"SVC_train\", svc_model.predict(train_features), train_labels)\n",
        "#evaluation_summary(\"SVC_validation\", svc_model.predict(validation_features), validation_labels)\n",
        "evaluation_summary(\"SVC_test\", svc_model.predict(test_features), test_labels)"
      ],
      "execution_count": null,
      "outputs": [
        {
          "output_type": "stream",
          "text": [
            "Evaluation for: SVC_test\n",
            "Classifier 'SVC_test' has Acc=0.703 P=0.265 R=0.293 macro-F1=0.259\n"
          ],
          "name": "stdout"
        },
        {
          "output_type": "stream",
          "text": [
            "/usr/local/lib/python3.7/dist-packages/sklearn/metrics/_classification.py:1272: UndefinedMetricWarning: Recall is ill-defined and being set to 0.0 in labels with no true samples. Use `zero_division` parameter to control this behavior.\n",
            "  _warn_prf(average, modifier, msg_start, len(result))\n"
          ],
          "name": "stderr"
        }
      ]
    },
    {
      "cell_type": "markdown",
      "metadata": {
        "id": "ZRkgM4zUngFE"
      },
      "source": [
        "**Random Forest with Count Vectorizer**"
      ]
    },
    {
      "cell_type": "code",
      "metadata": {
        "id": "F41PmkJ7nAUx"
      },
      "source": [
        "import string\n",
        "from spacy.lang.en import English\n",
        "from spacy.lang.en.stop_words import STOP_WORDS\n",
        "\n",
        "# Create our list of punchuationmarks\n",
        "punctuations = string.punctuation\n",
        "\n",
        "# Create our list of stop words\n",
        "nlp = spacy.load('en')\n",
        "stop_words = spacy.lang.en.stop_words.STOP_WORDS\n",
        "\n",
        "# Load English tokenizer, tagger, parser, NER and word vector\n",
        "parser = English()\n",
        "# Creating our tokenzer function\n",
        "def spacy_tokenizer(sentence):\n",
        "    \"\"\"This function will accepts a sentence as input and processes the sentence into tokens, performing lemmatization, \n",
        "    lowercasing, removing stop words and punctuations.\"\"\"\n",
        "    \n",
        "    # Creating our token object which is used to create documents with linguistic annotations\n",
        "    mytokens = parser(sentence)\n",
        "    \n",
        "    # lemmatizing each token and converting each token in lower case\n",
        "    # Note that spaCy uses '-PRON-' as lemma for all personal pronouns lkike me, I etc\n",
        "    mytokens = [ word.lemma_.lower().strip() if word.lemma_ != \"-PRON-\" else word.lower_ for word in mytokens ]\n",
        "    \n",
        "    # Removing stop words\n",
        "    mytokens = [ word for word in mytokens if word not in stop_words and word not in punctuations]\n",
        "    \n",
        "    # Return preprocessed list of tokens\n",
        "    return mytokens    "
      ],
      "execution_count": null,
      "outputs": []
    },
    {
      "cell_type": "code",
      "metadata": {
        "id": "HDtrJjBMnHEM"
      },
      "source": [
        "# Custom transformer using spaCy\n",
        "class predictors():\n",
        "    def transform(self, X, **transform_params):\n",
        "        \"\"\"Override the transform method to clean text\"\"\"\n",
        "        return [clean_text(text) for text in X]\n",
        "    \n",
        "    def fit(self, X, y= None, **fit_params):\n",
        "        return self\n",
        "    \n",
        "    def get_params(self, deep= True):\n",
        "        return {}\n",
        "\n",
        "# Basic function to clean the text\n",
        "def clean_text(text):\n",
        "    \"\"\"Removing spaces and converting the text into lowercase\"\"\"\n",
        "    return text.strip().lower()"
      ],
      "execution_count": null,
      "outputs": []
    },
    {
      "cell_type": "code",
      "metadata": {
        "id": "hS5nmf9mnKY9"
      },
      "source": [
        "import spacy\n",
        "import pandas as pd\n",
        "from sklearn.feature_extraction.text import CountVectorizer, TfidfVectorizer\n",
        "from sklearn.base import TransformerMixin\n",
        "from sklearn.pipeline import Pipeline\n",
        "\n",
        "bow_vector = CountVectorizer(tokenizer = spacy_tokenizer, ngram_range = (1,1))"
      ],
      "execution_count": null,
      "outputs": []
    },
    {
      "cell_type": "code",
      "metadata": {
        "colab": {
          "base_uri": "https://localhost:8080/"
        },
        "id": "PFIWpa7znQ8t",
        "outputId": "8934b035-5d86-4c5e-b2fe-89954127e96f"
      },
      "source": [
        "# Logistic regression classifier\n",
        "from sklearn.ensemble import RandomForestClassifier\n",
        "\n",
        "\n",
        "classifier = RandomForestClassifier()\n",
        "# Create pipeline using Bag of Words\n",
        "pipe = Pipeline ([(\"cleaner\", predictors()),\n",
        "                 (\"vectorizer\", bow_vector),\n",
        "                 (\"classifier\", classifier)])\n",
        "\n",
        "# Model generation\n",
        "pipe.fit(train_data['body'], train_labels)"
      ],
      "execution_count": null,
      "outputs": [
        {
          "output_type": "execute_result",
          "data": {
            "text/plain": [
              "Pipeline(memory=None,\n",
              "         steps=[('cleaner', <__main__.predictors object at 0x7f65278f4e50>),\n",
              "                ('vectorizer',\n",
              "                 CountVectorizer(analyzer='word', binary=False,\n",
              "                                 decode_error='strict',\n",
              "                                 dtype=<class 'numpy.int64'>, encoding='utf-8',\n",
              "                                 input='content', lowercase=True, max_df=1.0,\n",
              "                                 max_features=None, min_df=1,\n",
              "                                 ngram_range=(1, 1), preprocessor=None,\n",
              "                                 stop_words=None, strip_accents=None,\n",
              "                                 t...\n",
              "                 RandomForestClassifier(bootstrap=True, ccp_alpha=0.0,\n",
              "                                        class_weight=None, criterion='gini',\n",
              "                                        max_depth=None, max_features='auto',\n",
              "                                        max_leaf_nodes=None, max_samples=None,\n",
              "                                        min_impurity_decrease=0.0,\n",
              "                                        min_impurity_split=None,\n",
              "                                        min_samples_leaf=1, min_samples_split=2,\n",
              "                                        min_weight_fraction_leaf=0.0,\n",
              "                                        n_estimators=100, n_jobs=None,\n",
              "                                        oob_score=False, random_state=None,\n",
              "                                        verbose=0, warm_start=False))],\n",
              "         verbose=False)"
            ]
          },
          "metadata": {
            "tags": []
          },
          "execution_count": 69
        }
      ]
    },
    {
      "cell_type": "code",
      "metadata": {
        "colab": {
          "base_uri": "https://localhost:8080/"
        },
        "id": "DCnaIcBhnW4Q",
        "outputId": "7bc41f8f-3701-4056-d536-f7518acd6cb3"
      },
      "source": [
        "from sklearn import metrics\n",
        "\n",
        "# Predicting with test dataset\n",
        "predicted = pipe.predict(test_data['body'])\n",
        "evaluation_summary(\"Random_forest_test\",predicted, test_labels)"
      ],
      "execution_count": null,
      "outputs": [
        {
          "output_type": "stream",
          "text": [
            "Evaluation for: Random_forest_test\n",
            "Classifier 'Random_forest_test' has Acc=0.719 P=0.628 R=0.541 macro-F1=0.567\n"
          ],
          "name": "stdout"
        }
      ]
    },
    {
      "cell_type": "markdown",
      "metadata": {
        "id": "USXpA7w9ntCW"
      },
      "source": [
        "**Logistic Regression with TFIDF Hyperparameter tuning:**"
      ]
    },
    {
      "cell_type": "markdown",
      "metadata": {
        "id": "u0HOw9S7n5Y-"
      },
      "source": [
        "**C parameter tuning with GridSearchCV**"
      ]
    },
    {
      "cell_type": "code",
      "metadata": {
        "colab": {
          "base_uri": "https://localhost:8080/"
        },
        "id": "0PYDISWJoEma",
        "outputId": "8999b074-bda0-4eb2-92bf-fbd74f9ee336"
      },
      "source": [
        "import warnings\n",
        "warnings.filterwarnings('ignore')\n",
        "from sklearn.model_selection import GridSearchCV\n",
        "LR = LogisticRegression(class_weight='balanced')#to solve the imbalanced classes\n",
        "LRparam_grid = {\n",
        "    'C': [0.001, 0.01, 0.1, 1, 10, 100, 1000,10000,100000],\n",
        "    \n",
        "  \n",
        "}\n",
        "LR_search = GridSearchCV(LR, param_grid=LRparam_grid, refit = True, verbose = 3, cv=5)\n",
        "\n",
        "# fitting the model for grid search \n",
        "LR_search.fit(validation_features_new , validation_labels)\n",
        "LR_search.best_params_\n",
        "# summarize\n",
        "print('Mean Accuracy: %.3f' % LR_search.best_score_)\n",
        "print('Config: %s' % LR_search.best_params_)"
      ],
      "execution_count": null,
      "outputs": [
        {
          "output_type": "stream",
          "text": [
            "Fitting 5 folds for each of 9 candidates, totalling 45 fits\n",
            "[CV] C=0.001 .........................................................\n"
          ],
          "name": "stdout"
        },
        {
          "output_type": "stream",
          "text": [
            "[Parallel(n_jobs=1)]: Using backend SequentialBackend with 1 concurrent workers.\n",
            "[Parallel(n_jobs=1)]: Done   1 out of   1 | elapsed:    0.2s remaining:    0.0s\n"
          ],
          "name": "stderr"
        },
        {
          "output_type": "stream",
          "text": [
            "[CV] ............................. C=0.001, score=0.395, total=   0.2s\n",
            "[CV] C=0.001 .........................................................\n",
            "[CV] ............................. C=0.001, score=0.421, total=   0.4s\n",
            "[CV] C=0.001 .........................................................\n"
          ],
          "name": "stdout"
        },
        {
          "output_type": "stream",
          "text": [
            "[Parallel(n_jobs=1)]: Done   2 out of   2 | elapsed:    0.6s remaining:    0.0s\n"
          ],
          "name": "stderr"
        },
        {
          "output_type": "stream",
          "text": [
            "[CV] ............................. C=0.001, score=0.444, total=   0.4s\n",
            "[CV] C=0.001 .........................................................\n",
            "[CV] ............................. C=0.001, score=0.476, total=   0.2s\n",
            "[CV] C=0.001 .........................................................\n",
            "[CV] ............................. C=0.001, score=0.417, total=   0.2s\n",
            "[CV] C=0.01 ..........................................................\n",
            "[CV] .............................. C=0.01, score=0.415, total=   0.3s\n",
            "[CV] C=0.01 ..........................................................\n",
            "[CV] .............................. C=0.01, score=0.447, total=   0.3s\n",
            "[CV] C=0.01 ..........................................................\n",
            "[CV] .............................. C=0.01, score=0.468, total=   0.5s\n",
            "[CV] C=0.01 ..........................................................\n",
            "[CV] .............................. C=0.01, score=0.534, total=   0.5s\n",
            "[CV] C=0.01 ..........................................................\n",
            "[CV] .............................. C=0.01, score=0.425, total=   0.3s\n",
            "[CV] C=0.1 ...........................................................\n",
            "[CV] ............................... C=0.1, score=0.558, total=   0.9s\n",
            "[CV] C=0.1 ...........................................................\n",
            "[CV] ............................... C=0.1, score=0.563, total=   1.1s\n",
            "[CV] C=0.1 ...........................................................\n",
            "[CV] ............................... C=0.1, score=0.608, total=   0.9s\n",
            "[CV] C=0.1 ...........................................................\n",
            "[CV] ............................... C=0.1, score=0.572, total=   0.9s\n",
            "[CV] C=0.1 ...........................................................\n",
            "[CV] ............................... C=0.1, score=0.522, total=   1.0s\n",
            "[CV] C=1 .............................................................\n",
            "[CV] ................................. C=1, score=0.654, total=   2.5s\n",
            "[CV] C=1 .............................................................\n",
            "[CV] ................................. C=1, score=0.643, total=   2.4s\n",
            "[CV] C=1 .............................................................\n",
            "[CV] ................................. C=1, score=0.675, total=   2.7s\n",
            "[CV] C=1 .............................................................\n",
            "[CV] ................................. C=1, score=0.650, total=   2.2s\n",
            "[CV] C=1 .............................................................\n",
            "[CV] ................................. C=1, score=0.620, total=   2.3s\n",
            "[CV] C=10 ............................................................\n",
            "[CV] ................................ C=10, score=0.675, total=   3.3s\n",
            "[CV] C=10 ............................................................\n",
            "[CV] ................................ C=10, score=0.659, total=   3.1s\n",
            "[CV] C=10 ............................................................\n",
            "[CV] ................................ C=10, score=0.696, total=   3.3s\n",
            "[CV] C=10 ............................................................\n",
            "[CV] ................................ C=10, score=0.696, total=   3.1s\n",
            "[CV] C=10 ............................................................\n",
            "[CV] ................................ C=10, score=0.652, total=   3.5s\n",
            "[CV] C=100 ...........................................................\n",
            "[CV] ............................... C=100, score=0.674, total=   3.1s\n",
            "[CV] C=100 ...........................................................\n",
            "[CV] ............................... C=100, score=0.677, total=   2.9s\n",
            "[CV] C=100 ...........................................................\n",
            "[CV] ............................... C=100, score=0.696, total=   3.3s\n",
            "[CV] C=100 ...........................................................\n",
            "[CV] ............................... C=100, score=0.696, total=   3.3s\n",
            "[CV] C=100 ...........................................................\n",
            "[CV] ............................... C=100, score=0.663, total=   3.2s\n",
            "[CV] C=1000 ..........................................................\n",
            "[CV] .............................. C=1000, score=0.669, total=   3.2s\n",
            "[CV] C=1000 ..........................................................\n",
            "[CV] .............................. C=1000, score=0.678, total=   3.2s\n",
            "[CV] C=1000 ..........................................................\n",
            "[CV] .............................. C=1000, score=0.680, total=   3.1s\n",
            "[CV] C=1000 ..........................................................\n",
            "[CV] .............................. C=1000, score=0.667, total=   3.0s\n",
            "[CV] C=1000 ..........................................................\n",
            "[CV] .............................. C=1000, score=0.652, total=   3.1s\n",
            "[CV] C=10000 .........................................................\n",
            "[CV] ............................. C=10000, score=0.664, total=   3.2s\n",
            "[CV] C=10000 .........................................................\n",
            "[CV] ............................. C=10000, score=0.683, total=   3.4s\n",
            "[CV] C=10000 .........................................................\n",
            "[CV] ............................. C=10000, score=0.666, total=   3.4s\n",
            "[CV] C=10000 .........................................................\n",
            "[CV] ............................. C=10000, score=0.682, total=   3.3s\n",
            "[CV] C=10000 .........................................................\n",
            "[CV] ............................. C=10000, score=0.646, total=   3.3s\n",
            "[CV] C=100000 ........................................................\n",
            "[CV] ............................ C=100000, score=0.672, total=   3.3s\n",
            "[CV] C=100000 ........................................................\n",
            "[CV] ............................ C=100000, score=0.670, total=   3.2s\n",
            "[CV] C=100000 ........................................................\n",
            "[CV] ............................ C=100000, score=0.656, total=   3.4s\n",
            "[CV] C=100000 ........................................................\n",
            "[CV] ............................ C=100000, score=0.691, total=   3.3s\n",
            "[CV] C=100000 ........................................................\n",
            "[CV] ............................ C=100000, score=0.655, total=   3.1s\n"
          ],
          "name": "stdout"
        },
        {
          "output_type": "stream",
          "text": [
            "[Parallel(n_jobs=1)]: Done  45 out of  45 | elapsed:  1.7min finished\n"
          ],
          "name": "stderr"
        },
        {
          "output_type": "stream",
          "text": [
            "Mean Accuracy: 0.681\n",
            "Config: {'C': 100}\n"
          ],
          "name": "stdout"
        }
      ]
    },
    {
      "cell_type": "code",
      "metadata": {
        "colab": {
          "base_uri": "https://localhost:8080/"
        },
        "id": "kL10_KnPoRq9",
        "outputId": "2bcb02d9-a691-4838-ceac-4439d5136d30"
      },
      "source": [
        "# summarize\n",
        "print('Mean Accuracy: %.3f' % LR_search.best_score_)\n",
        "print('Config: %s' % LR_search.best_params_)"
      ],
      "execution_count": null,
      "outputs": [
        {
          "output_type": "stream",
          "text": [
            "Mean Accuracy: 0.681\n",
            "Config: {'C': 100}\n"
          ],
          "name": "stdout"
        }
      ]
    },
    {
      "cell_type": "markdown",
      "metadata": {
        "id": "bwyA2MI2oVPm"
      },
      "source": [
        "**TFIDF Vectorizer tuning**"
      ]
    },
    {
      "cell_type": "code",
      "metadata": {
        "colab": {
          "base_uri": "https://localhost:8080/"
        },
        "id": "f91m0m_woaBt",
        "outputId": "d4268d2c-1241-4323-a051-2f67fb502345"
      },
      "source": [
        "pipeline = Pipeline([\n",
        "    ('tfidf', TfidfVectorizer(stop_words=stop_words)),\n",
        "    ('Lr', LogisticRegression(class_weight='balanced',C=100)),\n",
        "])\n",
        "parameters = {\n",
        "    'tfidf__max_features': (None,50,500,5000,50000),\n",
        "    'tfidf__sublinear_tf': [True, False]\n",
        "    \n",
        "}\n",
        "\n",
        "grid_search_tune = GridSearchCV(pipeline, parameters, cv=2, n_jobs=2, verbose=3)\n",
        "grid_search_tune.fit(validation_data['body'], validation_labels)\n",
        "\n",
        "print(\"Best parameters set:\")\n",
        "grid_search_tune.best_estimator_.steps"
      ],
      "execution_count": null,
      "outputs": [
        {
          "output_type": "stream",
          "text": [
            "Fitting 2 folds for each of 10 candidates, totalling 20 fits\n"
          ],
          "name": "stdout"
        },
        {
          "output_type": "stream",
          "text": [
            "[Parallel(n_jobs=2)]: Using backend LokyBackend with 2 concurrent workers.\n",
            "[Parallel(n_jobs=2)]: Done  20 out of  20 | elapsed:    9.0s finished\n"
          ],
          "name": "stderr"
        },
        {
          "output_type": "stream",
          "text": [
            "Best parameters set:\n"
          ],
          "name": "stdout"
        },
        {
          "output_type": "execute_result",
          "data": {
            "text/plain": [
              "[('tfidf',\n",
              "  TfidfVectorizer(analyzer='word', binary=False, decode_error='strict',\n",
              "                  dtype=<class 'numpy.float64'>, encoding='utf-8',\n",
              "                  input='content', lowercase=True, max_df=1.0, max_features=None,\n",
              "                  min_df=1, ngram_range=(1, 1), norm='l2', preprocessor=None,\n",
              "                  smooth_idf=True,\n",
              "                  stop_words={\"'d\", \"'ll\", \"'m\", \"'re\", \"'s\", \"'ve\", 'a', 'about',\n",
              "                              'above', 'across', 'after', 'afterwards', 'again',\n",
              "                              'against', 'all', 'almost', 'alone', 'along',\n",
              "                              'already', 'also', 'although', 'always', 'am',\n",
              "                              'among', 'amongst', 'amount', 'an', 'and',\n",
              "                              'another', 'any', ...},\n",
              "                  strip_accents=None, sublinear_tf=True,\n",
              "                  token_pattern='(?u)\\\\b\\\\w\\\\w+\\\\b', tokenizer=None, use_idf=True,\n",
              "                  vocabulary=None)),\n",
              " ('Lr', LogisticRegression(C=100, class_weight='balanced', dual=False,\n",
              "                     fit_intercept=True, intercept_scaling=1, l1_ratio=None,\n",
              "                     max_iter=100, multi_class='auto', n_jobs=None, penalty='l2',\n",
              "                     random_state=None, solver='lbfgs', tol=0.0001, verbose=0,\n",
              "                     warm_start=False))]"
            ]
          },
          "metadata": {
            "tags": []
          },
          "execution_count": 73
        }
      ]
    },
    {
      "cell_type": "code",
      "metadata": {
        "id": "Jv8i7aXipEMC"
      },
      "source": [
        "from sklearn.feature_extraction.text import TfidfVectorizer\n",
        "#updating the parameter of TFIDF vectorizer\n",
        "one_hot_vectorizer = TfidfVectorizer(max_features=5000,sublinear_tf=True)\n",
        "train_features_new = one_hot_vectorizer.fit_transform(train_data['body'])\n",
        "\n",
        "# This creates input features for our classification o all subsets of our collection.\n",
        "validation_features_new = one_hot_vectorizer.transform(validation_data['body'])\n",
        "test_features_new = one_hot_vectorizer.transform(test_data['body'])"
      ],
      "execution_count": null,
      "outputs": []
    },
    {
      "cell_type": "markdown",
      "metadata": {
        "id": "WiSREIFdojEo"
      },
      "source": [
        "**Logistic Regression Penalty tuning**"
      ]
    },
    {
      "cell_type": "code",
      "metadata": {
        "colab": {
          "base_uri": "https://localhost:8080/"
        },
        "id": "Uce0ddDQofE2",
        "outputId": "97de887d-87ec-46ef-d344-221a931ffa3f"
      },
      "source": [
        "import warnings\n",
        "warnings.filterwarnings('ignore')\n",
        "from sklearn.model_selection import GridSearchCV\n",
        "LR = LogisticRegression(C=100, class_weight='balanced')\n",
        "LRparam_grid = {\n",
        "   \n",
        "    'solver': ['newton-cg', 'lbfgs', 'liblinear', 'sag', 'saga'],\n",
        "  \n",
        "}\n",
        "LR_search = GridSearchCV(LR, param_grid=LRparam_grid, refit = True, verbose = 3, cv=5)\n",
        "\n",
        "# fitting the model for grid search \n",
        "LR_search.fit(validation_features_new , validation_labels)\n",
        "LR_search.best_params_\n",
        "# summarize\n",
        "print('Mean Accuracy: %.3f' % LR_search.best_score_)\n",
        "print('Config: %s' % LR_search.best_params_)"
      ],
      "execution_count": null,
      "outputs": [
        {
          "output_type": "stream",
          "text": [
            "Fitting 5 folds for each of 5 candidates, totalling 25 fits\n",
            "[CV] solver=newton-cg ................................................\n"
          ],
          "name": "stdout"
        },
        {
          "output_type": "stream",
          "text": [
            "[Parallel(n_jobs=1)]: Using backend SequentialBackend with 1 concurrent workers.\n"
          ],
          "name": "stderr"
        },
        {
          "output_type": "stream",
          "text": [
            "[CV] .................... solver=newton-cg, score=0.651, total=   0.5s\n",
            "[CV] solver=newton-cg ................................................\n"
          ],
          "name": "stdout"
        },
        {
          "output_type": "stream",
          "text": [
            "[Parallel(n_jobs=1)]: Done   1 out of   1 | elapsed:    0.5s remaining:    0.0s\n"
          ],
          "name": "stderr"
        },
        {
          "output_type": "stream",
          "text": [
            "[CV] .................... solver=newton-cg, score=0.670, total=   0.5s\n",
            "[CV] solver=newton-cg ................................................\n"
          ],
          "name": "stdout"
        },
        {
          "output_type": "stream",
          "text": [
            "[Parallel(n_jobs=1)]: Done   2 out of   2 | elapsed:    1.0s remaining:    0.0s\n"
          ],
          "name": "stderr"
        },
        {
          "output_type": "stream",
          "text": [
            "[CV] .................... solver=newton-cg, score=0.690, total=   0.5s\n",
            "[CV] solver=newton-cg ................................................\n",
            "[CV] .................... solver=newton-cg, score=0.685, total=   0.5s\n",
            "[CV] solver=newton-cg ................................................\n",
            "[CV] .................... solver=newton-cg, score=0.651, total=   0.5s\n",
            "[CV] solver=lbfgs ....................................................\n",
            "[CV] ........................ solver=lbfgs, score=0.654, total=   1.0s\n",
            "[CV] solver=lbfgs ....................................................\n",
            "[CV] ........................ solver=lbfgs, score=0.667, total=   1.0s\n",
            "[CV] solver=lbfgs ....................................................\n",
            "[CV] ........................ solver=lbfgs, score=0.693, total=   1.0s\n",
            "[CV] solver=lbfgs ....................................................\n",
            "[CV] ........................ solver=lbfgs, score=0.680, total=   1.1s\n",
            "[CV] solver=lbfgs ....................................................\n",
            "[CV] ........................ solver=lbfgs, score=0.651, total=   1.3s\n",
            "[CV] solver=liblinear ................................................\n",
            "[CV] .................... solver=liblinear, score=0.659, total=   0.1s\n",
            "[CV] solver=liblinear ................................................\n",
            "[CV] .................... solver=liblinear, score=0.666, total=   0.1s\n",
            "[CV] solver=liblinear ................................................\n",
            "[CV] .................... solver=liblinear, score=0.695, total=   0.1s\n",
            "[CV] solver=liblinear ................................................\n",
            "[CV] .................... solver=liblinear, score=0.690, total=   0.1s\n",
            "[CV] solver=liblinear ................................................\n",
            "[CV] .................... solver=liblinear, score=0.652, total=   0.1s\n",
            "[CV] solver=sag ......................................................\n",
            "[CV] .......................... solver=sag, score=0.654, total=   0.3s\n",
            "[CV] solver=sag ......................................................\n",
            "[CV] .......................... solver=sag, score=0.664, total=   0.3s\n",
            "[CV] solver=sag ......................................................\n",
            "[CV] .......................... solver=sag, score=0.686, total=   0.3s\n",
            "[CV] solver=sag ......................................................\n",
            "[CV] .......................... solver=sag, score=0.682, total=   0.3s\n",
            "[CV] solver=sag ......................................................\n",
            "[CV] .......................... solver=sag, score=0.649, total=   0.3s\n",
            "[CV] solver=saga .....................................................\n",
            "[CV] ......................... solver=saga, score=0.641, total=   0.3s\n",
            "[CV] solver=saga .....................................................\n",
            "[CV] ......................... solver=saga, score=0.670, total=   0.3s\n",
            "[CV] solver=saga .....................................................\n",
            "[CV] ......................... solver=saga, score=0.675, total=   0.3s\n",
            "[CV] solver=saga .....................................................\n",
            "[CV] ......................... solver=saga, score=0.667, total=   0.3s\n",
            "[CV] solver=saga .....................................................\n",
            "[CV] ......................... solver=saga, score=0.646, total=   0.3s\n",
            "Mean Accuracy: 0.672\n",
            "Config: {'solver': 'liblinear'}\n"
          ],
          "name": "stdout"
        },
        {
          "output_type": "stream",
          "text": [
            "[Parallel(n_jobs=1)]: Done  25 out of  25 | elapsed:   11.5s finished\n"
          ],
          "name": "stderr"
        }
      ]
    },
    {
      "cell_type": "markdown",
      "metadata": {
        "id": "YUvXEJz0qMf9"
      },
      "source": [
        "**Applying all the hyperparmeter tunings in Logistic Regression and evaluation of test data**"
      ]
    },
    {
      "cell_type": "code",
      "metadata": {
        "id": "EHF9eHtWzuDV"
      },
      "source": [
        "tuned_classifier= LogisticRegression(class_weight='balanced',C=100,penalty='l2',solver='sag')\n",
        "\n",
        "pipe = Pipeline ([(\"cleaner\", predictors()),\n",
        "                 (\"vectorizer\", one_hot_vectorizer),\n",
        "                 (\"classifier\", tuned_classifier)])"
      ],
      "execution_count": null,
      "outputs": []
    },
    {
      "cell_type": "code",
      "metadata": {
        "colab": {
          "base_uri": "https://localhost:8080/"
        },
        "id": "OdV2Cp3S0JQ5",
        "outputId": "ec3f02f5-8737-4926-ef78-18164a643627"
      },
      "source": [
        "# Model generation\n",
        "pipe.fit(validation_data['body'],validation_labels)"
      ],
      "execution_count": null,
      "outputs": [
        {
          "output_type": "execute_result",
          "data": {
            "text/plain": [
              "Pipeline(memory=None,\n",
              "         steps=[('cleaner', <__main__.predictors object at 0x7f6507d41490>),\n",
              "                ('vectorizer',\n",
              "                 TfidfVectorizer(analyzer='word', binary=False,\n",
              "                                 decode_error='strict',\n",
              "                                 dtype=<class 'numpy.float64'>,\n",
              "                                 encoding='utf-8', input='content',\n",
              "                                 lowercase=True, max_df=1.0, max_features=5000,\n",
              "                                 min_df=1, ngram_range=(1, 1), norm='l2',\n",
              "                                 preprocessor=None, smooth_idf=True,\n",
              "                                 stop_wor...\n",
              "                                 token_pattern='(?u)\\\\b\\\\w\\\\w+\\\\b',\n",
              "                                 tokenizer=None, use_idf=True,\n",
              "                                 vocabulary=None)),\n",
              "                ('classifier',\n",
              "                 LogisticRegression(C=100, class_weight='balanced', dual=False,\n",
              "                                    fit_intercept=True, intercept_scaling=1,\n",
              "                                    l1_ratio=None, max_iter=100,\n",
              "                                    multi_class='auto', n_jobs=None,\n",
              "                                    penalty='l2', random_state=None,\n",
              "                                    solver='sag', tol=0.0001, verbose=0,\n",
              "                                    warm_start=False))],\n",
              "         verbose=False)"
            ]
          },
          "metadata": {
            "tags": []
          },
          "execution_count": 77
        }
      ]
    },
    {
      "cell_type": "code",
      "metadata": {
        "colab": {
          "base_uri": "https://localhost:8080/"
        },
        "id": "I0-ks-cu0h50",
        "outputId": "6b76fe6f-79c5-470e-b61e-0fbe12124bf1"
      },
      "source": [
        "# Predicting with test dataset\n",
        "predicted = pipe.predict(test_data['body'])\n",
        "evaluation_summary(\"Tuned_model\",predicted, test_labels)\n",
        "print(classification_report(predicted, test_labels))\n",
        "print(confusion_matrix(predicted, test_labels))"
      ],
      "execution_count": null,
      "outputs": [
        {
          "output_type": "stream",
          "text": [
            "Evaluation for: Tuned_model\n",
            "Classifier 'Tuned_model' has Acc=0.693 P=0.418 R=0.419 macro-F1=0.413\n",
            "              precision    recall  f1-score   support\n",
            "\n",
            "           1       0.00      0.00      0.00         6\n",
            "           2       0.24      0.39      0.30       178\n",
            "           3       0.80      0.76      0.78      2640\n",
            "           4       0.60      0.62      0.61      1076\n",
            "           5       0.44      0.33      0.38       116\n",
            "\n",
            "    accuracy                           0.69      4016\n",
            "   macro avg       0.42      0.42      0.41      4016\n",
            "weighted avg       0.71      0.69      0.70      4016\n",
            "\n",
            "[[   0    3    3    0    0]\n",
            " [   7   69   88   14    0]\n",
            " [  22  191 2014  391   22]\n",
            " [   2   16  369  663   26]\n",
            " [   1    3   40   34   38]]\n"
          ],
          "name": "stdout"
        }
      ]
    },
    {
      "cell_type": "markdown",
      "metadata": {
        "id": "MCLFbIr-lpUJ"
      },
      "source": [
        "**Adding features to the Pipeline to improve performance**"
      ]
    },
    {
      "cell_type": "markdown",
      "metadata": {
        "id": "LYgahrhQMr_K"
      },
      "source": [
        "**Correlation Heatmap**"
      ]
    },
    {
      "cell_type": "code",
      "metadata": {
        "colab": {
          "base_uri": "https://localhost:8080/",
          "height": 237
        },
        "id": "l1310tzhln69",
        "outputId": "10a584c2-20b6-4d9b-e549-7008caaa88d9"
      },
      "source": [
        "# Visualisation\n",
        "import matplotlib.pyplot as plt\n",
        "import seaborn as sns\n",
        "%matplotlib inline\n",
        "sns.set(style=\"whitegrid\", context='talk')\n",
        "plt.figure(figsize = (14,5))\n",
        "columns = ['subreddit','title','id','url','author','body','majority_type','is_first_post','post_depth','in_reply_to','sentiment_polarity','sentiment_subjectivity','sentiment']\n",
        "sns.heatmap(train_data[columns].corr(), annot=True, cmap='seismic_r');"
      ],
      "execution_count": null,
      "outputs": [
        {
          "output_type": "display_data",
          "data": {
            "image/png": "[encoded data removed]",
            "text/plain": [
              "<Figure size 1008x360 with 2 Axes>"
            ]
          },
          "metadata": {
            "tags": []
          }
        }
      ]
    },
    {
      "cell_type": "markdown",
      "metadata": {
        "id": "bWy8shjlORRk"
      },
      "source": [
        "**Plan 1: Adding a numerical feature to the pipeline**"
      ]
    },
    {
      "cell_type": "code",
      "metadata": {
        "colab": {
          "base_uri": "https://localhost:8080/",
          "height": 571
        },
        "id": "M0z9zETCOQ4W",
        "outputId": "fee537eb-0423-44cc-cd42-2aaf9db4026b"
      },
      "source": [
        "from sklearn.preprocessing import StandardScaler, OneHotEncoder\n",
        "from sklearn.feature_extraction.text import TfidfVectorizer\n",
        "from sklearn.impute import SimpleImputer\n",
        "\n",
        "from sklearn.compose import ColumnTransformer\n",
        "from sklearn.pipeline import Pipeline\n",
        "\n",
        "from sklearn.dummy import DummyClassifier\n",
        "from sklearn.linear_model import LogisticRegression\n",
        "\n",
        "from sklearn import metrics\n",
        "## All important step to set your transformers and vectorizers.\n",
        "numeric_features = ['is_first_post']\n",
        "numeric_transformer = Pipeline(steps=[\n",
        "    ('imputer', SimpleImputer(strategy='median')),\n",
        "    ('scaler', StandardScaler())])\n",
        "\n",
        "text_features = ['body']\n",
        "text_transformer = TfidfVectorizer(sublinear_tf=True, norm='l2',max_features=5000, stop_words='english')\n",
        "\n",
        "preprocessor = ColumnTransformer(\n",
        "    transformers=[\n",
        "        ('num', numeric_transformer, numeric_features),\n",
        "        \n",
        "        ('tfidf_1', text_transformer, 'body')],\n",
        "                    remainder='drop')\n",
        "def evaluateClassifier(classif):\n",
        "  clf = Pipeline(steps=[('preprocessor', preprocessor),\n",
        "                        ('classifier', classif)])\n",
        "\n",
        "  clf.fit(train_data, train_data['sentiment'])\n",
        "\n",
        "  y_pred = clf.predict(validation_data)\n",
        "  \n",
        "\n",
        "  print(metrics.classification_report(validation_data['sentiment'], y_pred, zero_division=0))\n",
        "  print(confusion_matrix(validation_data['sentiment'], y_pred))\n",
        "  print(\"Tuned model with added 'is_fist_post' num feature\")\n",
        "  print(metrics.classification_report(test_data['sentiment'], clf.predict(test_data), zero_division=0))\n",
        "  print(confusion_matrix(test_data['sentiment'], clf.predict(test_data))) \n",
        "\n",
        "evaluateClassifier(LogisticRegression(C=100,solver='liblinear'))"
      ],
      "execution_count": null,
      "outputs": [
        {
          "output_type": "stream",
          "text": [
            "              precision    recall  f1-score   support\n",
            "\n",
            "           1       0.17      0.13      0.15        15\n",
            "           2       0.46      0.37      0.41       215\n",
            "           3       0.75      0.81      0.78      1961\n",
            "           4       0.59      0.54      0.56       845\n",
            "           5       0.53      0.26      0.35        73\n",
            "\n",
            "    accuracy                           0.69      3109\n",
            "   macro avg       0.50      0.42      0.45      3109\n",
            "weighted avg       0.68      0.69      0.68      3109\n",
            "\n"
          ],
          "name": "stdout"
        },
        {
          "output_type": "error",
          "ename": "NameError",
          "evalue": "ignored",
          "traceback": [
            "\u001b[0;31m---------------------------------------------------------------------------\u001b[0m",
            "\u001b[0;31mNameError\u001b[0m                                 Traceback (most recent call last)",
            "\u001b[0;32m<ipython-input-12-4ddecb9af5ce>\u001b[0m in \u001b[0;36m<module>\u001b[0;34m()\u001b[0m\n\u001b[1;32m     40\u001b[0m   \u001b[0mprint\u001b[0m\u001b[0;34m(\u001b[0m\u001b[0mconfusion_matrix\u001b[0m\u001b[0;34m(\u001b[0m\u001b[0mtest_data\u001b[0m\u001b[0;34m[\u001b[0m\u001b[0;34m'sentiment'\u001b[0m\u001b[0;34m]\u001b[0m\u001b[0;34m,\u001b[0m \u001b[0mclf\u001b[0m\u001b[0;34m.\u001b[0m\u001b[0mpredict\u001b[0m\u001b[0;34m(\u001b[0m\u001b[0mtest_data\u001b[0m\u001b[0;34m)\u001b[0m\u001b[0;34m)\u001b[0m\u001b[0;34m)\u001b[0m\u001b[0;34m\u001b[0m\u001b[0;34m\u001b[0m\u001b[0m\n\u001b[1;32m     41\u001b[0m \u001b[0;34m\u001b[0m\u001b[0m\n\u001b[0;32m---> 42\u001b[0;31m \u001b[0mevaluateClassifier\u001b[0m\u001b[0;34m(\u001b[0m\u001b[0mLogisticRegression\u001b[0m\u001b[0;34m(\u001b[0m\u001b[0mC\u001b[0m\u001b[0;34m=\u001b[0m\u001b[0;36m100\u001b[0m\u001b[0;34m,\u001b[0m\u001b[0msolver\u001b[0m\u001b[0;34m=\u001b[0m\u001b[0;34m'liblinear'\u001b[0m\u001b[0;34m)\u001b[0m\u001b[0;34m)\u001b[0m\u001b[0;34m\u001b[0m\u001b[0;34m\u001b[0m\u001b[0m\n\u001b[0m",
            "\u001b[0;32m<ipython-input-12-4ddecb9af5ce>\u001b[0m in \u001b[0;36mevaluateClassifier\u001b[0;34m(classif)\u001b[0m\n\u001b[1;32m     35\u001b[0m \u001b[0;34m\u001b[0m\u001b[0m\n\u001b[1;32m     36\u001b[0m   \u001b[0mprint\u001b[0m\u001b[0;34m(\u001b[0m\u001b[0mmetrics\u001b[0m\u001b[0;34m.\u001b[0m\u001b[0mclassification_report\u001b[0m\u001b[0;34m(\u001b[0m\u001b[0mvalidation_data\u001b[0m\u001b[0;34m[\u001b[0m\u001b[0;34m'sentiment'\u001b[0m\u001b[0;34m]\u001b[0m\u001b[0;34m,\u001b[0m \u001b[0my_pred\u001b[0m\u001b[0;34m,\u001b[0m \u001b[0mzero_division\u001b[0m\u001b[0;34m=\u001b[0m\u001b[0;36m0\u001b[0m\u001b[0;34m)\u001b[0m\u001b[0;34m)\u001b[0m\u001b[0;34m\u001b[0m\u001b[0;34m\u001b[0m\u001b[0m\n\u001b[0;32m---> 37\u001b[0;31m   \u001b[0mprint\u001b[0m\u001b[0;34m(\u001b[0m\u001b[0mconfusion_matrix\u001b[0m\u001b[0;34m(\u001b[0m\u001b[0mvalidation_data\u001b[0m\u001b[0;34m[\u001b[0m\u001b[0;34m'sentiment'\u001b[0m\u001b[0;34m]\u001b[0m\u001b[0;34m,\u001b[0m \u001b[0my_pred\u001b[0m\u001b[0;34m)\u001b[0m\u001b[0;34m)\u001b[0m\u001b[0;34m\u001b[0m\u001b[0;34m\u001b[0m\u001b[0m\n\u001b[0m\u001b[1;32m     38\u001b[0m   \u001b[0mprint\u001b[0m\u001b[0;34m(\u001b[0m\u001b[0;34m\"Tuned model with added 'is_fist_post' num feature\"\u001b[0m\u001b[0;34m)\u001b[0m\u001b[0;34m\u001b[0m\u001b[0;34m\u001b[0m\u001b[0m\n\u001b[1;32m     39\u001b[0m   \u001b[0mprint\u001b[0m\u001b[0;34m(\u001b[0m\u001b[0mmetrics\u001b[0m\u001b[0;34m.\u001b[0m\u001b[0mclassification_report\u001b[0m\u001b[0;34m(\u001b[0m\u001b[0mtest_data\u001b[0m\u001b[0;34m[\u001b[0m\u001b[0;34m'sentiment'\u001b[0m\u001b[0;34m]\u001b[0m\u001b[0;34m,\u001b[0m \u001b[0mclf\u001b[0m\u001b[0;34m.\u001b[0m\u001b[0mpredict\u001b[0m\u001b[0;34m(\u001b[0m\u001b[0mtest_data\u001b[0m\u001b[0;34m)\u001b[0m\u001b[0;34m,\u001b[0m \u001b[0mzero_division\u001b[0m\u001b[0;34m=\u001b[0m\u001b[0;36m0\u001b[0m\u001b[0;34m)\u001b[0m\u001b[0;34m)\u001b[0m\u001b[0;34m\u001b[0m\u001b[0;34m\u001b[0m\u001b[0m\n",
            "\u001b[0;31mNameError\u001b[0m: name 'confusion_matrix' is not defined"
          ]
        }
      ]
    },
    {
      "cell_type": "markdown",
      "metadata": {
        "id": "GURdg83YO8XQ"
      },
      "source": [
        "**Plan 2: Adding subreddit categorical feature**"
      ]
    },
    {
      "cell_type": "code",
      "metadata": {
        "colab": {
          "base_uri": "https://localhost:8080/"
        },
        "id": "fiN2-cSdOgSW",
        "outputId": "d96e4d1b-5f1e-42bb-990a-e8e1a69780b1"
      },
      "source": [
        "categorical_features = ['subreddit']\n",
        "categorical_transformer = OneHotEncoder(handle_unknown='ignore')\n",
        "\n",
        "preprocessor = ColumnTransformer(\n",
        "    transformers=[\n",
        "\n",
        "         ('cat', categorical_transformer, categorical_features),\n",
        "        \n",
        "        ('tfidf_1', text_transformer, 'body')],\n",
        "                    remainder='drop')\n",
        "\n",
        "def evaluateClassifier(classif):\n",
        "  clf = Pipeline(steps=[('preprocessor', preprocessor),\n",
        "                        ('classifier', classif)])\n",
        "\n",
        "  clf.fit(train_data, train_data['sentiment'])\n",
        "\n",
        "  y_pred = clf.predict(validation_data)\n",
        "  \n",
        "\n",
        "  print(metrics.classification_report(validation_data['sentiment'], y_pred, zero_division=0))\n",
        "  print(confusion_matrix(validation_data['sentiment'], y_pred))\n",
        "  print(\"Tuned model with added 'subreddit' cat feature\")\n",
        "  print(metrics.classification_report(test_data['sentiment'], clf.predict(test_data), zero_division=0))\n",
        "  print(confusion_matrix(test_data['sentiment'], clf.predict(test_data))) \n",
        "\n",
        "evaluateClassifier(LogisticRegression(C=100,solver='liblinear'))"
      ],
      "execution_count": null,
      "outputs": [
        {
          "output_type": "stream",
          "text": [
            "              precision    recall  f1-score   support\n",
            "\n",
            "           1       0.18      0.13      0.15        15\n",
            "           2       0.46      0.36      0.41       215\n",
            "           3       0.75      0.80      0.77      1961\n",
            "           4       0.57      0.53      0.55       845\n",
            "           5       0.53      0.26      0.35        73\n",
            "\n",
            "    accuracy                           0.68      3109\n",
            "   macro avg       0.50      0.42      0.45      3109\n",
            "weighted avg       0.67      0.68      0.67      3109\n",
            "\n",
            "[[   2    2   10    1    0]\n",
            " [   0   78  124   13    0]\n",
            " [   8   77 1568  297   11]\n",
            " [   1   12  376  450    6]\n",
            " [   0    0   25   29   19]]\n",
            "Tuned model with added 'subreddit' cat feature\n",
            "              precision    recall  f1-score   support\n",
            "\n",
            "           1       0.42      0.25      0.31        32\n",
            "           2       0.41      0.32      0.36       282\n",
            "           3       0.76      0.79      0.77      2514\n",
            "           4       0.58      0.58      0.58      1102\n",
            "           5       0.42      0.26      0.32        86\n",
            "\n",
            "    accuracy                           0.68      4016\n",
            "   macro avg       0.52      0.44      0.47      4016\n",
            "weighted avg       0.68      0.68      0.68      4016\n",
            "\n",
            "[[   8    6   14    3    1]\n",
            " [   4   90  169   18    1]\n",
            " [   6  116 1986  394   12]\n",
            " [   1    5  436  643   17]\n",
            " [   0    0   19   45   22]]\n"
          ],
          "name": "stdout"
        }
      ]
    },
    {
      "cell_type": "markdown",
      "metadata": {
        "id": "3OPis0sxPTgx"
      },
      "source": [
        "**Plan 3: Adding Post_depth as a feature**"
      ]
    },
    {
      "cell_type": "code",
      "metadata": {
        "colab": {
          "base_uri": "https://localhost:8080/"
        },
        "id": "k_We57y9PTJx",
        "outputId": "a16ec732-6820-4a23-cf79-bdc0202779d6"
      },
      "source": [
        "#ading post_depth to the pipeline\n",
        "numeric_features = ['post_depth']\n",
        "numeric_transformer = Pipeline(steps=[\n",
        "    ('imputer', SimpleImputer(strategy='median')),\n",
        "    ('scaler', StandardScaler())])\n",
        "\n",
        "preprocessor = ColumnTransformer(\n",
        "    transformers=[\n",
        "        ('num', numeric_transformer, numeric_features),\n",
        "        \n",
        "        ('tfidf_1', text_transformer, 'body')],\n",
        "                    remainder='drop')\n",
        "\n",
        "def evaluateClassifier(classif):\n",
        "  clf = Pipeline(steps=[('preprocessor', preprocessor),\n",
        "                        ('classifier', classif)])\n",
        "\n",
        "  clf.fit(train_data, train_data['sentiment'])\n",
        "\n",
        "  y_pred = clf.predict(validation_data)\n",
        "  \n",
        "\n",
        "  print(metrics.classification_report(validation_data['sentiment'], y_pred, zero_division=0))\n",
        "  print(confusion_matrix(validation_data['sentiment'], y_pred))\n",
        "  print(\"Tuned model with added 'post_depth' num feature\")\n",
        "  print(metrics.classification_report(test_data['sentiment'], clf.predict(test_data), zero_division=0))\n",
        "  print(confusion_matrix(test_data['sentiment'], clf.predict(test_data))) \n",
        "\n",
        "evaluateClassifier(LogisticRegression(C=100,solver='liblinear'))"
      ],
      "execution_count": null,
      "outputs": [
        {
          "output_type": "stream",
          "text": [
            "              precision    recall  f1-score   support\n",
            "\n",
            "           1       0.15      0.13      0.14        15\n",
            "           2       0.46      0.37      0.41       215\n",
            "           3       0.75      0.80      0.77      1961\n",
            "           4       0.58      0.54      0.56       845\n",
            "           5       0.54      0.26      0.35        73\n",
            "\n",
            "    accuracy                           0.69      3109\n",
            "   macro avg       0.50      0.42      0.45      3109\n",
            "weighted avg       0.68      0.69      0.68      3109\n",
            "\n",
            "[[   2    2   10    1    0]\n",
            " [   2   79  124   10    0]\n",
            " [   8   81 1573  289   10]\n",
            " [   1   11  370  457    6]\n",
            " [   0    0   26   28   19]]\n",
            "Tuned model with added 'post_depth' num feature\n",
            "              precision    recall  f1-score   support\n",
            "\n",
            "           1       0.50      0.28      0.36        32\n",
            "           2       0.43      0.31      0.36       282\n",
            "           3       0.76      0.80      0.78      2514\n",
            "           4       0.59      0.59      0.59      1102\n",
            "           5       0.42      0.27      0.33        86\n",
            "\n",
            "    accuracy                           0.69      4016\n",
            "   macro avg       0.54      0.45      0.48      4016\n",
            "weighted avg       0.68      0.69      0.68      4016\n",
            "\n",
            "[[   9    5   14    3    1]\n",
            " [   5   87  172   18    0]\n",
            " [   3  108 2007  384   12]\n",
            " [   1    4  432  646   19]\n",
            " [   0    0   21   42   23]]\n"
          ],
          "name": "stdout"
        }
      ]
    },
    {
      "cell_type": "markdown",
      "metadata": {
        "id": "9KW3Et_dPjlc"
      },
      "source": [
        "**Plan 4: Adding majority_type as a categorical feature**"
      ]
    },
    {
      "cell_type": "code",
      "metadata": {
        "colab": {
          "base_uri": "https://localhost:8080/"
        },
        "id": "n700pq3bPidP",
        "outputId": "38bf38e0-7f7a-41ba-a601-4bd4bb8d5b85"
      },
      "source": [
        "categorical_features = ['majority_type']\n",
        "categorical_transformer = OneHotEncoder(handle_unknown='ignore')\n",
        "\n",
        "preprocessor = ColumnTransformer(\n",
        "    transformers=[\n",
        "\n",
        "         ('cat', categorical_transformer, categorical_features),\n",
        "        \n",
        "        ('tfidf_1', text_transformer, 'body')],\n",
        "                    remainder='drop')\n",
        "\n",
        "def evaluateClassifier(classif):\n",
        "  clf = Pipeline(steps=[('preprocessor', preprocessor),\n",
        "                        ('classifier', classif)])\n",
        "\n",
        "  clf.fit(train_data, train_data['sentiment'])\n",
        "\n",
        "  y_pred = clf.predict(validation_data)\n",
        "  \n",
        "\n",
        "  print(metrics.classification_report(validation_data['sentiment'], y_pred, zero_division=0))\n",
        "  print(confusion_matrix(validation_data['sentiment'], y_pred))\n",
        "  print(\"Tuned model with added 'majority_type' cat feature\")\n",
        "  print(metrics.classification_report(test_data['sentiment'], clf.predict(test_data), zero_division=0))\n",
        "  print(confusion_matrix(test_data['sentiment'], clf.predict(test_data))) \n",
        "\n",
        "evaluateClassifier(LogisticRegression(C=100,solver='liblinear'))"
      ],
      "execution_count": null,
      "outputs": [
        {
          "output_type": "stream",
          "text": [
            "              precision    recall  f1-score   support\n",
            "\n",
            "           1       0.15      0.13      0.14        15\n",
            "           2       0.45      0.36      0.40       215\n",
            "           3       0.75      0.80      0.78      1961\n",
            "           4       0.59      0.55      0.57       845\n",
            "           5       0.54      0.29      0.38        73\n",
            "\n",
            "    accuracy                           0.69      3109\n",
            "   macro avg       0.50      0.43      0.45      3109\n",
            "weighted avg       0.68      0.69      0.68      3109\n",
            "\n",
            "[[   2    2   10    1    0]\n",
            " [   1   78  125   11    0]\n",
            " [   9   83 1578  279   12]\n",
            " [   1   11  365  462    6]\n",
            " [   0    0   22   30   21]]\n",
            "Tuned model with added 'majority_type' cat feature\n",
            "              precision    recall  f1-score   support\n",
            "\n",
            "           1       0.45      0.28      0.35        32\n",
            "           2       0.44      0.32      0.37       282\n",
            "           3       0.76      0.80      0.78      2514\n",
            "           4       0.59      0.59      0.59      1102\n",
            "           5       0.43      0.27      0.33        86\n",
            "\n",
            "    accuracy                           0.69      4016\n",
            "   macro avg       0.53      0.45      0.48      4016\n",
            "weighted avg       0.68      0.69      0.69      4016\n",
            "\n",
            "[[   9    7   12    3    1]\n",
            " [   5   90  169   18    0]\n",
            " [   5  103 2009  386   11]\n",
            " [   1    3  432  647   19]\n",
            " [   0    0   21   42   23]]\n"
          ],
          "name": "stdout"
        }
      ]
    },
    {
      "cell_type": "markdown",
      "metadata": {
        "id": "7YIomesFP1Ld"
      },
      "source": [
        "**Final fine tuning the parameters using Grid search with added features**"
      ]
    },
    {
      "cell_type": "code",
      "metadata": {
        "colab": {
          "base_uri": "https://localhost:8080/"
        },
        "id": "KCNLq17-TgO7",
        "outputId": "24cff2b9-eeb4-425c-8ecf-7e340d5056e1"
      },
      "source": [
        "from sklearn.linear_model import LogisticRegression\n",
        "from sklearn.model_selection import GridSearchCV\n",
        "## Tune parameters with grid search.\n",
        "def tune(classif):\n",
        "\n",
        "  params = {\n",
        "      'preprocessor__tfidf_1__max_features' : (None,5,50,500,5000,50000),\n",
        "      'preprocessor__tfidf_1__sublinear_tf' : (True, False),\n",
        "      \n",
        "      \n",
        "      \n",
        "\n",
        "  }\n",
        "  \n",
        "  pipe = Pipeline(steps=[('preprocessor', preprocessor),\n",
        "                        ('classifier', classif)])\n",
        "  \n",
        "  grid_search = GridSearchCV(pipe, verbose=1, param_grid=params, n_jobs=-1, scoring='f1_macro', cv=2 )\n",
        "  print(\"Performing grid search...\")\n",
        "  print(\"pipeline:\", [name for name, _ in pipe.steps])\n",
        "  print(\"parameters:\")\n",
        "  print(params)\n",
        "\n",
        "  grid_search.fit(train_data, train_data['sentiment'])\n",
        "\n",
        "\n",
        "  print(\"Best score: %0.3f\" % grid_search.best_score_)\n",
        "  print(\"Best parameters set:\")\n",
        "  best_parameters = grid_search.best_estimator_.get_params()\n",
        "  for param_name in sorted(params.keys()):\n",
        "    print(\"\\t%s: %r\" % (param_name, best_parameters[param_name]))\n",
        "\n",
        "tune(LogisticRegression())"
      ],
      "execution_count": null,
      "outputs": [
        {
          "output_type": "stream",
          "text": [
            "Performing grid search...\n",
            "pipeline: ['preprocessor', 'classifier']\n",
            "parameters:\n",
            "{'preprocessor__tfidf_1__max_features': (None, 5, 50, 500, 5000, 50000), 'preprocessor__tfidf_1__sublinear_tf': (True, False)}\n",
            "Fitting 2 folds for each of 12 candidates, totalling 24 fits\n"
          ],
          "name": "stdout"
        },
        {
          "output_type": "stream",
          "text": [
            "[Parallel(n_jobs=-1)]: Using backend LokyBackend with 2 concurrent workers.\n",
            "[Parallel(n_jobs=-1)]: Done  24 out of  24 | elapsed:   24.6s finished\n"
          ],
          "name": "stderr"
        },
        {
          "output_type": "stream",
          "text": [
            "Best score: 0.345\n",
            "Best parameters set:\n",
            "\tpreprocessor__tfidf_1__max_features: 500\n",
            "\tpreprocessor__tfidf_1__sublinear_tf: False\n"
          ],
          "name": "stdout"
        },
        {
          "output_type": "stream",
          "text": [
            "/usr/local/lib/python3.7/dist-packages/sklearn/linear_model/_logistic.py:940: ConvergenceWarning: lbfgs failed to converge (status=1):\n",
            "STOP: TOTAL NO. of ITERATIONS REACHED LIMIT.\n",
            "\n",
            "Increase the number of iterations (max_iter) or scale the data as shown in:\n",
            "    https://scikit-learn.org/stable/modules/preprocessing.html\n",
            "Please also refer to the documentation for alternative solver options:\n",
            "    https://scikit-learn.org/stable/modules/linear_model.html#logistic-regression\n",
            "  extra_warning_msg=_LOGISTIC_SOLVER_CONVERGENCE_MSG)\n"
          ],
          "name": "stderr"
        }
      ]
    },
    {
      "cell_type": "code",
      "metadata": {
        "id": "PwNtscHIUtsP"
      },
      "source": [
        "text_transformer1 = TfidfVectorizer(sublinear_tf=False, max_features=500, stop_words='english')"
      ],
      "execution_count": null,
      "outputs": []
    },
    {
      "cell_type": "code",
      "metadata": {
        "id": "4ZSveZVCVxfW"
      },
      "source": [
        "#ading post_depth to the pipeline\n",
        "numeric_features = ['is_first_post']\n",
        "numeric_transformer = Pipeline(steps=[\n",
        "    ('imputer', SimpleImputer(strategy='median')),\n",
        "    ('scaler', StandardScaler())])\n",
        "\n",
        "categorical_features = ['majority_type']\n",
        "categorical_transformer = OneHotEncoder(handle_unknown='ignore')\n",
        "\n",
        "preprocessor = ColumnTransformer(\n",
        "    transformers=[\n",
        "        ('num', numeric_transformer, numeric_features),\n",
        "        ('cat', categorical_transformer, categorical_features),\n",
        "        ('tfidf_1', text_transformer1, 'body'),\n",
        "        ],\n",
        "                    remainder='drop')\n",
        "\n",
        "\n"
      ],
      "execution_count": null,
      "outputs": []
    },
    {
      "cell_type": "code",
      "metadata": {
        "colab": {
          "base_uri": "https://localhost:8080/"
        },
        "id": "vCc-3kKcWQfL",
        "outputId": "f744d7f2-8bda-4aa4-ce21-e8197ee8c7bd"
      },
      "source": [
        "\n",
        "def evaluateClassifier(classif):\n",
        "  clf = Pipeline(steps=[('preprocessor', preprocessor),\n",
        "                        ('classifier', classif)])\n",
        "\n",
        "  clf.fit(train_data, train_data['sentiment'])\n",
        "\n",
        "  y_pred = clf.predict(validation_data)\n",
        "  print(\"Tuned model with added added feature\")\n",
        "  print(\"Validation set results\")\n",
        "  \n",
        "\n",
        "  print(metrics.classification_report(validation_data['sentiment'], y_pred, zero_division=0))\n",
        "  print(confusion_matrix(validation_data['sentiment'], y_pred))\n",
        "  print(\"Test set results\")\n",
        "  print(metrics.classification_report(test_data['sentiment'], clf.predict(test_data), zero_division=0))\n",
        "  print(confusion_matrix(test_data['sentiment'], clf.predict(test_data))) \n",
        "\n",
        "LogisticRegression(C=100,solver='liblinear',class_weight='balanced')"
      ],
      "execution_count": null,
      "outputs": [
        {
          "output_type": "execute_result",
          "data": {
            "text/plain": [
              "LogisticRegression(C=100, class_weight='balanced', dual=False,\n",
              "                   fit_intercept=True, intercept_scaling=1, l1_ratio=None,\n",
              "                   max_iter=100, multi_class='auto', n_jobs=None, penalty='l2',\n",
              "                   random_state=None, solver='liblinear', tol=0.0001, verbose=0,\n",
              "                   warm_start=False)"
            ]
          },
          "metadata": {
            "tags": []
          },
          "execution_count": 18
        }
      ]
    },
    {
      "cell_type": "code",
      "metadata": {
        "colab": {
          "base_uri": "https://localhost:8080/"
        },
        "id": "lwehggwmXA1m",
        "outputId": "b5ab2fa6-d9fd-4ee7-bbe8-e237e8a2df5a"
      },
      "source": [
        "evaluateClassifier(LogisticRegression(C=100,solver='liblinear',class_weight='balanced'))"
      ],
      "execution_count": null,
      "outputs": [
        {
          "output_type": "stream",
          "text": [
            "Tuned model with added added feature\n",
            "Validation set results\n",
            "              precision    recall  f1-score   support\n",
            "\n",
            "           1       0.03      0.20      0.05        15\n",
            "           2       0.31      0.40      0.35       215\n",
            "           3       0.76      0.72      0.74      1961\n",
            "           4       0.61      0.55      0.58       845\n",
            "           5       0.30      0.47      0.36        73\n",
            "\n",
            "    accuracy                           0.64      3109\n",
            "   macro avg       0.40      0.47      0.42      3109\n",
            "weighted avg       0.68      0.64      0.66      3109\n",
            "\n",
            "[[   3    3    8    1    0]\n",
            " [  15   86   96   11    7]\n",
            " [  73  160 1411  270   47]\n",
            " [  15   31  311  462   26]\n",
            " [   1    1   21   16   34]]\n",
            "Test set results\n",
            "              precision    recall  f1-score   support\n",
            "\n",
            "           1       0.07      0.31      0.11        32\n",
            "           2       0.30      0.33      0.31       282\n",
            "           3       0.77      0.73      0.75      2514\n",
            "           4       0.64      0.57      0.60      1102\n",
            "           5       0.19      0.40      0.25        86\n",
            "\n",
            "    accuracy                           0.65      4016\n",
            "   macro avg       0.39      0.47      0.41      4016\n",
            "weighted avg       0.68      0.65      0.66      4016\n",
            "\n",
            "[[  10    5   14    0    3]\n",
            " [  21   93  149   14    5]\n",
            " [  91  180 1844  316   83]\n",
            " [  19   29  369  628   57]\n",
            " [   2    3   25   22   34]]\n"
          ],
          "name": "stdout"
        }
      ]
    },
    {
      "cell_type": "code",
      "metadata": {
        "colab": {
          "base_uri": "https://localhost:8080/",
          "height": 235
        },
        "id": "hYdDQqGjDGRo",
        "outputId": "e148f620-a5eb-414d-f21b-668c33afdde1"
      },
      "source": [
        "#bar chart\n",
        "import pandas as pd\n",
        "F1_score=[['Dummy_most_frequent', 0.154],['Dummy_stratified', 0.205],['Logistic Regression with onehot', 0.349],['Logistic regression with TFIDF', 0.350],['Support Vector machine',0.331],['Random Forest',0.567]]\n",
        "\n",
        "bar_df=pd.DataFrame(F1_score, columns=['Classifier','macro F1 score'])\n",
        "bar_df"
      ],
      "execution_count": null,
      "outputs": [
        {
          "output_type": "execute_result",
          "data": {
            "text/html": [
              "<div>\n",
              "<style scoped>\n",
              "    .dataframe tbody tr th:only-of-type {\n",
              "        vertical-align: middle;\n",
              "    }\n",
              "\n",
              "    .dataframe tbody tr th {\n",
              "        vertical-align: top;\n",
              "    }\n",
              "\n",
              "    .dataframe thead th {\n",
              "        text-align: right;\n",
              "    }\n",
              "</style>\n",
              "<table border=\"1\" class=\"dataframe\">\n",
              "  <thead>\n",
              "    <tr style=\"text-align: right;\">\n",
              "      <th></th>\n",
              "      <th>Classifier</th>\n",
              "      <th>macro F1 score</th>\n",
              "    </tr>\n",
              "  </thead>\n",
              "  <tbody>\n",
              "    <tr>\n",
              "      <th>0</th>\n",
              "      <td>Dummy_most_frequent</td>\n",
              "      <td>0.154</td>\n",
              "    </tr>\n",
              "    <tr>\n",
              "      <th>1</th>\n",
              "      <td>Dummy_stratified</td>\n",
              "      <td>0.205</td>\n",
              "    </tr>\n",
              "    <tr>\n",
              "      <th>2</th>\n",
              "      <td>Logistic Regression with onehot</td>\n",
              "      <td>0.349</td>\n",
              "    </tr>\n",
              "    <tr>\n",
              "      <th>3</th>\n",
              "      <td>Logistic regression with TFIDF</td>\n",
              "      <td>0.350</td>\n",
              "    </tr>\n",
              "    <tr>\n",
              "      <th>4</th>\n",
              "      <td>Support Vector machine</td>\n",
              "      <td>0.331</td>\n",
              "    </tr>\n",
              "    <tr>\n",
              "      <th>5</th>\n",
              "      <td>Random Forest</td>\n",
              "      <td>0.567</td>\n",
              "    </tr>\n",
              "  </tbody>\n",
              "</table>\n",
              "</div>"
            ],
            "text/plain": [
              "                        Classifier  macro F1 score\n",
              "0              Dummy_most_frequent           0.154\n",
              "1                 Dummy_stratified           0.205\n",
              "2  Logistic Regression with onehot           0.349\n",
              "3   Logistic regression with TFIDF           0.350\n",
              "4           Support Vector machine           0.331\n",
              "5                    Random Forest           0.567"
            ]
          },
          "metadata": {
            "tags": []
          },
          "execution_count": 2
        }
      ]
    },
    {
      "cell_type": "code",
      "metadata": {
        "colab": {
          "base_uri": "https://localhost:8080/",
          "height": 330
        },
        "id": "G_TqLe2sEuv5",
        "outputId": "b75971cd-633a-466a-b9b8-34ec41a7481a"
      },
      "source": [
        "import matplotlib.pyplot as plt\n",
        "ax=bar_df[['Classifier','macro F1 score']].plot(kind='bar',figsize=(5,5))\n",
        "#ax.set_xlabel(\"Classifier\")\n",
        "ax.set_ylabel(\"macro F1 score\")\n",
        "plt.xlabel(\"Classifier\")\n",
        "plt.show()"
      ],
      "execution_count": null,
      "outputs": [
        {
          "output_type": "display_data",
          "data": {
            "image/png": "[encoded data removed]",
            "text/plain": [
              "<Figure size 360x360 with 1 Axes>"
            ]
          },
          "metadata": {
            "tags": [],
            "needs_background": "light"
          }
        }
      ]
    },
    {
      "cell_type": "code",
      "metadata": {
        "colab": {
          "base_uri": "https://localhost:8080/",
          "height": 235
        },
        "id": "QQg_I3kWG435",
        "outputId": "825a5cb3-782d-4851-861d-42f7b75dc344"
      },
      "source": [
        "#score table\n",
        "scores=[['Dummy_most_frequent', 0.626,0.200,0.125,0.154],['Dummy_stratified',0.470,0.206,0.205,0.205],['Logistic Regression with onehot',0.739,0.325,0.578,0.349],['Logistic regression with TFIDF',0.739,0.325,0.578,0.350],['Support Vector machine',0.744,0.313,0.622,0.331],['Random Forest',0.717,0.630,0.538,0.567]]\n",
        "\n",
        "bar_dff=pd.DataFrame(scores, columns=['Classifier','Accuracy','Precision','Recall','macro F1 score'])\n",
        "bar_dff"
      ],
      "execution_count": null,
      "outputs": [
        {
          "output_type": "execute_result",
          "data": {
            "text/html": [
              "<div>\n",
              "<style scoped>\n",
              "    .dataframe tbody tr th:only-of-type {\n",
              "        vertical-align: middle;\n",
              "    }\n",
              "\n",
              "    .dataframe tbody tr th {\n",
              "        vertical-align: top;\n",
              "    }\n",
              "\n",
              "    .dataframe thead th {\n",
              "        text-align: right;\n",
              "    }\n",
              "</style>\n",
              "<table border=\"1\" class=\"dataframe\">\n",
              "  <thead>\n",
              "    <tr style=\"text-align: right;\">\n",
              "      <th></th>\n",
              "      <th>Classifier</th>\n",
              "      <th>Accuracy</th>\n",
              "      <th>Precision</th>\n",
              "      <th>Recall</th>\n",
              "      <th>macro F1 score</th>\n",
              "    </tr>\n",
              "  </thead>\n",
              "  <tbody>\n",
              "    <tr>\n",
              "      <th>0</th>\n",
              "      <td>Dummy_most_frequent</td>\n",
              "      <td>0.626</td>\n",
              "      <td>0.200</td>\n",
              "      <td>0.125</td>\n",
              "      <td>0.154</td>\n",
              "    </tr>\n",
              "    <tr>\n",
              "      <th>1</th>\n",
              "      <td>Dummy_stratified</td>\n",
              "      <td>0.470</td>\n",
              "      <td>0.206</td>\n",
              "      <td>0.205</td>\n",
              "      <td>0.205</td>\n",
              "    </tr>\n",
              "    <tr>\n",
              "      <th>2</th>\n",
              "      <td>Logistic Regression with onehot</td>\n",
              "      <td>0.739</td>\n",
              "      <td>0.325</td>\n",
              "      <td>0.578</td>\n",
              "      <td>0.349</td>\n",
              "    </tr>\n",
              "    <tr>\n",
              "      <th>3</th>\n",
              "      <td>Logistic regression with TFIDF</td>\n",
              "      <td>0.739</td>\n",
              "      <td>0.325</td>\n",
              "      <td>0.578</td>\n",
              "      <td>0.350</td>\n",
              "    </tr>\n",
              "    <tr>\n",
              "      <th>4</th>\n",
              "      <td>Support Vector machine</td>\n",
              "      <td>0.744</td>\n",
              "      <td>0.313</td>\n",
              "      <td>0.622</td>\n",
              "      <td>0.331</td>\n",
              "    </tr>\n",
              "    <tr>\n",
              "      <th>5</th>\n",
              "      <td>Random Forest</td>\n",
              "      <td>0.717</td>\n",
              "      <td>0.630</td>\n",
              "      <td>0.538</td>\n",
              "      <td>0.567</td>\n",
              "    </tr>\n",
              "  </tbody>\n",
              "</table>\n",
              "</div>"
            ],
            "text/plain": [
              "                        Classifier  Accuracy  Precision  Recall  macro F1 score\n",
              "0              Dummy_most_frequent     0.626      0.200   0.125           0.154\n",
              "1                 Dummy_stratified     0.470      0.206   0.205           0.205\n",
              "2  Logistic Regression with onehot     0.739      0.325   0.578           0.349\n",
              "3   Logistic regression with TFIDF     0.739      0.325   0.578           0.350\n",
              "4           Support Vector machine     0.744      0.313   0.622           0.331\n",
              "5                    Random Forest     0.717      0.630   0.538           0.567"
            ]
          },
          "metadata": {
            "tags": []
          },
          "execution_count": 6
        }
      ]
    }
  ]
}